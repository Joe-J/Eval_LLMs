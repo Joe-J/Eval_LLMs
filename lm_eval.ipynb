{
  "cells": [
    {
      "cell_type": "markdown",
      "metadata": {
        "id": "view-in-github",
        "colab_type": "text"
      },
      "source": [
        "<a href=\"https://colab.research.google.com/github/Joe-J/Eval_LLMs/blob/main/lm_eval.ipynb\" target=\"_parent\"><img src=\"https://colab.research.google.com/assets/colab-badge.svg\" alt=\"Open In Colab\"/></a>"
      ]
    },
    {
      "cell_type": "markdown",
      "metadata": {
        "id": "zAov81vTbL2K"
      },
      "source": [
        "\n",
        "\n",
        "## Install LM-Eval"
      ]
    },
    {
      "cell_type": "code",
      "execution_count": null,
      "metadata": {
        "colab": {
          "base_uri": "https://localhost:8080/"
        },
        "id": "8hiosGzq_qZg",
        "outputId": "714f8cfe-5564-41d1-dd11-570108612a33"
      },
      "outputs": [
        {
          "output_type": "stream",
          "name": "stdout",
          "text": [
            "Collecting git+https://github.com/EleutherAI/lm-evaluation-harness.git@big-refactor\n",
            "  Cloning https://github.com/EleutherAI/lm-evaluation-harness.git (to revision big-refactor) to /tmp/pip-req-build-xzp003pw\n",
            "  Running command git clone --filter=blob:none --quiet https://github.com/EleutherAI/lm-evaluation-harness.git /tmp/pip-req-build-xzp003pw\n",
            "  Running command git checkout -b big-refactor --track origin/big-refactor\n",
            "  Switched to a new branch 'big-refactor'\n",
            "  Branch 'big-refactor' set up to track remote branch 'big-refactor' from 'origin'.\n",
            "  Resolved https://github.com/EleutherAI/lm-evaluation-harness.git to commit c9bbec6e7de418b9082379da82797522eb173054\n",
            "  Installing build dependencies ... \u001b[?25l\u001b[?25hdone\n",
            "  Getting requirements to build wheel ... \u001b[?25l\u001b[?25hdone\n",
            "  Preparing metadata (pyproject.toml) ... \u001b[?25l\u001b[?25hdone\n",
            "Collecting accelerate>=0.21.0 (from lm_eval==1.0.0)\n",
            "  Downloading accelerate-0.27.2-py3-none-any.whl (279 kB)\n",
            "\u001b[2K     \u001b[90m━━━━━━━━━━━━━━━━━━━━━━━━━━━━━━━━━━━━━━━━\u001b[0m \u001b[32m280.0/280.0 kB\u001b[0m \u001b[31m7.2 MB/s\u001b[0m eta \u001b[36m0:00:00\u001b[0m\n",
            "\u001b[?25hCollecting evaluate (from lm_eval==1.0.0)\n",
            "  Downloading evaluate-0.4.1-py3-none-any.whl (84 kB)\n",
            "\u001b[2K     \u001b[90m━━━━━━━━━━━━━━━━━━━━━━━━━━━━━━━━━━━━━━━━\u001b[0m \u001b[32m84.1/84.1 kB\u001b[0m \u001b[31m8.6 MB/s\u001b[0m eta \u001b[36m0:00:00\u001b[0m\n",
            "\u001b[?25hCollecting datasets>=2.0.0 (from lm_eval==1.0.0)\n",
            "  Downloading datasets-2.17.1-py3-none-any.whl (536 kB)\n",
            "\u001b[2K     \u001b[90m━━━━━━━━━━━━━━━━━━━━━━━━━━━━━━━━━━━━━━━━\u001b[0m \u001b[32m536.7/536.7 kB\u001b[0m \u001b[31m12.1 MB/s\u001b[0m eta \u001b[36m0:00:00\u001b[0m\n",
            "\u001b[?25hCollecting jsonlines (from lm_eval==1.0.0)\n",
            "  Downloading jsonlines-4.0.0-py3-none-any.whl (8.7 kB)\n",
            "Requirement already satisfied: numexpr in /usr/local/lib/python3.10/dist-packages (from lm_eval==1.0.0) (2.9.0)\n",
            "Collecting peft>=0.2.0 (from lm_eval==1.0.0)\n",
            "  Downloading peft-0.8.2-py3-none-any.whl (183 kB)\n",
            "\u001b[2K     \u001b[90m━━━━━━━━━━━━━━━━━━━━━━━━━━━━━━━━━━━━━━━━\u001b[0m \u001b[32m183.4/183.4 kB\u001b[0m \u001b[31m13.0 MB/s\u001b[0m eta \u001b[36m0:00:00\u001b[0m\n",
            "\u001b[?25hCollecting pybind11>=2.6.2 (from lm_eval==1.0.0)\n",
            "  Downloading pybind11-2.11.1-py3-none-any.whl (227 kB)\n",
            "\u001b[2K     \u001b[90m━━━━━━━━━━━━━━━━━━━━━━━━━━━━━━━━━━━━━━━━\u001b[0m \u001b[32m227.7/227.7 kB\u001b[0m \u001b[31m18.3 MB/s\u001b[0m eta \u001b[36m0:00:00\u001b[0m\n",
            "\u001b[?25hCollecting pytablewriter (from lm_eval==1.0.0)\n",
            "  Downloading pytablewriter-1.2.0-py3-none-any.whl (111 kB)\n",
            "\u001b[2K     \u001b[90m━━━━━━━━━━━━━━━━━━━━━━━━━━━━━━━━━━━━━━━━\u001b[0m \u001b[32m111.1/111.1 kB\u001b[0m \u001b[31m14.6 MB/s\u001b[0m eta \u001b[36m0:00:00\u001b[0m\n",
            "\u001b[?25hCollecting rouge-score>=0.0.4 (from lm_eval==1.0.0)\n",
            "  Downloading rouge_score-0.1.2.tar.gz (17 kB)\n",
            "  Preparing metadata (setup.py) ... \u001b[?25l\u001b[?25hdone\n",
            "Collecting sacrebleu>=1.5.0 (from lm_eval==1.0.0)\n",
            "  Downloading sacrebleu-2.4.0-py3-none-any.whl (106 kB)\n",
            "\u001b[2K     \u001b[90m━━━━━━━━━━━━━━━━━━━━━━━━━━━━━━━━━━━━━━━━\u001b[0m \u001b[32m106.3/106.3 kB\u001b[0m \u001b[31m15.1 MB/s\u001b[0m eta \u001b[36m0:00:00\u001b[0m\n",
            "\u001b[?25hRequirement already satisfied: scikit-learn>=0.24.1 in /usr/local/lib/python3.10/dist-packages (from lm_eval==1.0.0) (1.2.2)\n",
            "Collecting sqlitedict (from lm_eval==1.0.0)\n",
            "  Downloading sqlitedict-2.1.0.tar.gz (21 kB)\n",
            "  Preparing metadata (setup.py) ... \u001b[?25l\u001b[?25hdone\n",
            "Requirement already satisfied: torch>=1.8 in /usr/local/lib/python3.10/dist-packages (from lm_eval==1.0.0) (2.1.0+cu121)\n",
            "Collecting tqdm-multiprocess (from lm_eval==1.0.0)\n",
            "  Downloading tqdm_multiprocess-0.0.11-py3-none-any.whl (9.8 kB)\n",
            "Requirement already satisfied: transformers>=4.1 in /usr/local/lib/python3.10/dist-packages (from lm_eval==1.0.0) (4.37.2)\n",
            "Collecting zstandard (from lm_eval==1.0.0)\n",
            "  Downloading zstandard-0.22.0-cp310-cp310-manylinux_2_17_x86_64.manylinux2014_x86_64.whl (5.4 MB)\n",
            "\u001b[2K     \u001b[90m━━━━━━━━━━━━━━━━━━━━━━━━━━━━━━━━━━━━━━━━\u001b[0m \u001b[32m5.4/5.4 MB\u001b[0m \u001b[31m33.7 MB/s\u001b[0m eta \u001b[36m0:00:00\u001b[0m\n",
            "\u001b[?25hRequirement already satisfied: numpy>=1.17 in /usr/local/lib/python3.10/dist-packages (from accelerate>=0.21.0->lm_eval==1.0.0) (1.25.2)\n",
            "Requirement already satisfied: packaging>=20.0 in /usr/local/lib/python3.10/dist-packages (from accelerate>=0.21.0->lm_eval==1.0.0) (23.2)\n",
            "Requirement already satisfied: psutil in /usr/local/lib/python3.10/dist-packages (from accelerate>=0.21.0->lm_eval==1.0.0) (5.9.5)\n",
            "Requirement already satisfied: pyyaml in /usr/local/lib/python3.10/dist-packages (from accelerate>=0.21.0->lm_eval==1.0.0) (6.0.1)\n",
            "Requirement already satisfied: huggingface-hub in /usr/local/lib/python3.10/dist-packages (from accelerate>=0.21.0->lm_eval==1.0.0) (0.20.3)\n",
            "Requirement already satisfied: safetensors>=0.3.1 in /usr/local/lib/python3.10/dist-packages (from accelerate>=0.21.0->lm_eval==1.0.0) (0.4.2)\n",
            "Requirement already satisfied: filelock in /usr/local/lib/python3.10/dist-packages (from datasets>=2.0.0->lm_eval==1.0.0) (3.13.1)\n",
            "Requirement already satisfied: pyarrow>=12.0.0 in /usr/local/lib/python3.10/dist-packages (from datasets>=2.0.0->lm_eval==1.0.0) (14.0.2)\n",
            "Requirement already satisfied: pyarrow-hotfix in /usr/local/lib/python3.10/dist-packages (from datasets>=2.0.0->lm_eval==1.0.0) (0.6)\n",
            "Collecting dill<0.3.9,>=0.3.0 (from datasets>=2.0.0->lm_eval==1.0.0)\n",
            "  Downloading dill-0.3.8-py3-none-any.whl (116 kB)\n",
            "\u001b[2K     \u001b[90m━━━━━━━━━━━━━━━━━━━━━━━━━━━━━━━━━━━━━━━━\u001b[0m \u001b[32m116.3/116.3 kB\u001b[0m \u001b[31m15.1 MB/s\u001b[0m eta \u001b[36m0:00:00\u001b[0m\n",
            "\u001b[?25hRequirement already satisfied: pandas in /usr/local/lib/python3.10/dist-packages (from datasets>=2.0.0->lm_eval==1.0.0) (1.5.3)\n",
            "Requirement already satisfied: requests>=2.19.0 in /usr/local/lib/python3.10/dist-packages (from datasets>=2.0.0->lm_eval==1.0.0) (2.31.0)\n",
            "Requirement already satisfied: tqdm>=4.62.1 in /usr/local/lib/python3.10/dist-packages (from datasets>=2.0.0->lm_eval==1.0.0) (4.66.2)\n",
            "Requirement already satisfied: xxhash in /usr/local/lib/python3.10/dist-packages (from datasets>=2.0.0->lm_eval==1.0.0) (3.4.1)\n",
            "Collecting multiprocess (from datasets>=2.0.0->lm_eval==1.0.0)\n",
            "  Downloading multiprocess-0.70.16-py310-none-any.whl (134 kB)\n",
            "\u001b[2K     \u001b[90m━━━━━━━━━━━━━━━━━━━━━━━━━━━━━━━━━━━━━━━━\u001b[0m \u001b[32m134.8/134.8 kB\u001b[0m \u001b[31m16.5 MB/s\u001b[0m eta \u001b[36m0:00:00\u001b[0m\n",
            "\u001b[?25hRequirement already satisfied: fsspec[http]<=2023.10.0,>=2023.1.0 in /usr/local/lib/python3.10/dist-packages (from datasets>=2.0.0->lm_eval==1.0.0) (2023.6.0)\n",
            "Requirement already satisfied: aiohttp in /usr/local/lib/python3.10/dist-packages (from datasets>=2.0.0->lm_eval==1.0.0) (3.9.3)\n",
            "Collecting responses<0.19 (from evaluate->lm_eval==1.0.0)\n",
            "  Downloading responses-0.18.0-py3-none-any.whl (38 kB)\n",
            "Requirement already satisfied: absl-py in /usr/local/lib/python3.10/dist-packages (from rouge-score>=0.0.4->lm_eval==1.0.0) (1.4.0)\n",
            "Requirement already satisfied: nltk in /usr/local/lib/python3.10/dist-packages (from rouge-score>=0.0.4->lm_eval==1.0.0) (3.8.1)\n",
            "Requirement already satisfied: six>=1.14.0 in /usr/local/lib/python3.10/dist-packages (from rouge-score>=0.0.4->lm_eval==1.0.0) (1.16.0)\n",
            "Collecting portalocker (from sacrebleu>=1.5.0->lm_eval==1.0.0)\n",
            "  Downloading portalocker-2.8.2-py3-none-any.whl (17 kB)\n",
            "Requirement already satisfied: regex in /usr/local/lib/python3.10/dist-packages (from sacrebleu>=1.5.0->lm_eval==1.0.0) (2023.12.25)\n",
            "Requirement already satisfied: tabulate>=0.8.9 in /usr/local/lib/python3.10/dist-packages (from sacrebleu>=1.5.0->lm_eval==1.0.0) (0.9.0)\n",
            "Collecting colorama (from sacrebleu>=1.5.0->lm_eval==1.0.0)\n",
            "  Downloading colorama-0.4.6-py2.py3-none-any.whl (25 kB)\n",
            "Requirement already satisfied: lxml in /usr/local/lib/python3.10/dist-packages (from sacrebleu>=1.5.0->lm_eval==1.0.0) (4.9.4)\n",
            "Requirement already satisfied: scipy>=1.3.2 in /usr/local/lib/python3.10/dist-packages (from scikit-learn>=0.24.1->lm_eval==1.0.0) (1.11.4)\n",
            "Requirement already satisfied: joblib>=1.1.1 in /usr/local/lib/python3.10/dist-packages (from scikit-learn>=0.24.1->lm_eval==1.0.0) (1.3.2)\n",
            "Requirement already satisfied: threadpoolctl>=2.0.0 in /usr/local/lib/python3.10/dist-packages (from scikit-learn>=0.24.1->lm_eval==1.0.0) (3.3.0)\n",
            "Requirement already satisfied: typing-extensions in /usr/local/lib/python3.10/dist-packages (from torch>=1.8->lm_eval==1.0.0) (4.9.0)\n",
            "Requirement already satisfied: sympy in /usr/local/lib/python3.10/dist-packages (from torch>=1.8->lm_eval==1.0.0) (1.12)\n",
            "Requirement already satisfied: networkx in /usr/local/lib/python3.10/dist-packages (from torch>=1.8->lm_eval==1.0.0) (3.2.1)\n",
            "Requirement already satisfied: jinja2 in /usr/local/lib/python3.10/dist-packages (from torch>=1.8->lm_eval==1.0.0) (3.1.3)\n",
            "Requirement already satisfied: triton==2.1.0 in /usr/local/lib/python3.10/dist-packages (from torch>=1.8->lm_eval==1.0.0) (2.1.0)\n",
            "Requirement already satisfied: tokenizers<0.19,>=0.14 in /usr/local/lib/python3.10/dist-packages (from transformers>=4.1->lm_eval==1.0.0) (0.15.2)\n",
            "Requirement already satisfied: attrs>=19.2.0 in /usr/local/lib/python3.10/dist-packages (from jsonlines->lm_eval==1.0.0) (23.2.0)\n",
            "Requirement already satisfied: setuptools>=38.3.0 in /usr/local/lib/python3.10/dist-packages (from pytablewriter->lm_eval==1.0.0) (67.7.2)\n",
            "Collecting DataProperty<2,>=1.0.1 (from pytablewriter->lm_eval==1.0.0)\n",
            "  Downloading DataProperty-1.0.1-py3-none-any.whl (27 kB)\n",
            "Collecting mbstrdecoder<2,>=1.0.0 (from pytablewriter->lm_eval==1.0.0)\n",
            "  Downloading mbstrdecoder-1.1.3-py3-none-any.whl (7.8 kB)\n",
            "Collecting pathvalidate<4,>=2.3.0 (from pytablewriter->lm_eval==1.0.0)\n",
            "  Downloading pathvalidate-3.2.0-py3-none-any.whl (23 kB)\n",
            "Collecting tabledata<2,>=1.3.1 (from pytablewriter->lm_eval==1.0.0)\n",
            "  Downloading tabledata-1.3.3-py3-none-any.whl (11 kB)\n",
            "Collecting tcolorpy<1,>=0.0.5 (from pytablewriter->lm_eval==1.0.0)\n",
            "  Downloading tcolorpy-0.1.4-py3-none-any.whl (7.9 kB)\n",
            "Collecting typepy[datetime]<2,>=1.3.2 (from pytablewriter->lm_eval==1.0.0)\n",
            "  Downloading typepy-1.3.2-py3-none-any.whl (31 kB)\n",
            "Requirement already satisfied: aiosignal>=1.1.2 in /usr/local/lib/python3.10/dist-packages (from aiohttp->datasets>=2.0.0->lm_eval==1.0.0) (1.3.1)\n",
            "Requirement already satisfied: frozenlist>=1.1.1 in /usr/local/lib/python3.10/dist-packages (from aiohttp->datasets>=2.0.0->lm_eval==1.0.0) (1.4.1)\n",
            "Requirement already satisfied: multidict<7.0,>=4.5 in /usr/local/lib/python3.10/dist-packages (from aiohttp->datasets>=2.0.0->lm_eval==1.0.0) (6.0.5)\n",
            "Requirement already satisfied: yarl<2.0,>=1.0 in /usr/local/lib/python3.10/dist-packages (from aiohttp->datasets>=2.0.0->lm_eval==1.0.0) (1.9.4)\n",
            "Requirement already satisfied: async-timeout<5.0,>=4.0 in /usr/local/lib/python3.10/dist-packages (from aiohttp->datasets>=2.0.0->lm_eval==1.0.0) (4.0.3)\n",
            "Requirement already satisfied: chardet<6,>=3.0.4 in /usr/local/lib/python3.10/dist-packages (from mbstrdecoder<2,>=1.0.0->pytablewriter->lm_eval==1.0.0) (5.2.0)\n",
            "Requirement already satisfied: charset-normalizer<4,>=2 in /usr/local/lib/python3.10/dist-packages (from requests>=2.19.0->datasets>=2.0.0->lm_eval==1.0.0) (3.3.2)\n",
            "Requirement already satisfied: idna<4,>=2.5 in /usr/local/lib/python3.10/dist-packages (from requests>=2.19.0->datasets>=2.0.0->lm_eval==1.0.0) (3.6)\n",
            "Requirement already satisfied: urllib3<3,>=1.21.1 in /usr/local/lib/python3.10/dist-packages (from requests>=2.19.0->datasets>=2.0.0->lm_eval==1.0.0) (2.0.7)\n",
            "Requirement already satisfied: certifi>=2017.4.17 in /usr/local/lib/python3.10/dist-packages (from requests>=2.19.0->datasets>=2.0.0->lm_eval==1.0.0) (2024.2.2)\n",
            "Requirement already satisfied: python-dateutil<3.0.0,>=2.8.0 in /usr/local/lib/python3.10/dist-packages (from typepy[datetime]<2,>=1.3.2->pytablewriter->lm_eval==1.0.0) (2.8.2)\n",
            "Requirement already satisfied: pytz>=2018.9 in /usr/local/lib/python3.10/dist-packages (from typepy[datetime]<2,>=1.3.2->pytablewriter->lm_eval==1.0.0) (2023.4)\n",
            "Requirement already satisfied: MarkupSafe>=2.0 in /usr/local/lib/python3.10/dist-packages (from jinja2->torch>=1.8->lm_eval==1.0.0) (2.1.5)\n",
            "Requirement already satisfied: click in /usr/local/lib/python3.10/dist-packages (from nltk->rouge-score>=0.0.4->lm_eval==1.0.0) (8.1.7)\n",
            "Requirement already satisfied: mpmath>=0.19 in /usr/local/lib/python3.10/dist-packages (from sympy->torch>=1.8->lm_eval==1.0.0) (1.3.0)\n",
            "Building wheels for collected packages: lm_eval, rouge-score, sqlitedict\n",
            "  Building wheel for lm_eval (pyproject.toml) ... \u001b[?25l\u001b[?25hdone\n",
            "  Created wheel for lm_eval: filename=lm_eval-1.0.0-py3-none-any.whl size=995024 sha256=b402535d2d10862b2b21ea65840c25031e3370e8afdff542fff270d5233ed116\n",
            "  Stored in directory: /tmp/pip-ephem-wheel-cache-hwxuz8jf/wheels/17/01/26/599c0779e9858a70a73fa8a306699b5b9a868f820c225457b0\n",
            "  Building wheel for rouge-score (setup.py) ... \u001b[?25l\u001b[?25hdone\n",
            "  Created wheel for rouge-score: filename=rouge_score-0.1.2-py3-none-any.whl size=24933 sha256=ca439ec15d5c77276ca3c9eeadc8b0d2ce997f69f8336b2cde20d6b0f43332b7\n",
            "  Stored in directory: /root/.cache/pip/wheels/5f/dd/89/461065a73be61a532ff8599a28e9beef17985c9e9c31e541b4\n",
            "  Building wheel for sqlitedict (setup.py) ... \u001b[?25l\u001b[?25hdone\n",
            "  Created wheel for sqlitedict: filename=sqlitedict-2.1.0-py3-none-any.whl size=16863 sha256=4ee1c24eccea8b352cd1b9b1f76abf2e8d0e7cf93edb1b3daaf18d001cfecef1\n",
            "  Stored in directory: /root/.cache/pip/wheels/79/d6/e7/304e0e6cb2221022c26d8161f7c23cd4f259a9e41e8bbcfabd\n",
            "Successfully built lm_eval rouge-score sqlitedict\n",
            "Installing collected packages: sqlitedict, zstandard, tcolorpy, pybind11, portalocker, pathvalidate, mbstrdecoder, jsonlines, dill, colorama, typepy, tqdm-multiprocess, sacrebleu, rouge-score, responses, multiprocess, accelerate, datasets, DataProperty, tabledata, peft, evaluate, pytablewriter, lm_eval\n",
            "Successfully installed DataProperty-1.0.1 accelerate-0.27.2 colorama-0.4.6 datasets-2.17.1 dill-0.3.8 evaluate-0.4.1 jsonlines-4.0.0 lm_eval-1.0.0 mbstrdecoder-1.1.3 multiprocess-0.70.16 pathvalidate-3.2.0 peft-0.8.2 portalocker-2.8.2 pybind11-2.11.1 pytablewriter-1.2.0 responses-0.18.0 rouge-score-0.1.2 sacrebleu-2.4.0 sqlitedict-2.1.0 tabledata-1.3.3 tcolorpy-0.1.4 tqdm-multiprocess-0.0.11 typepy-1.3.2 zstandard-0.22.0\n"
          ]
        }
      ],
      "source": [
        "# Install LM-Eval\n",
        "!pip install git+https://github.com/EleutherAI/lm-evaluation-harness.git@big-refactor"
      ]
    },
    {
      "cell_type": "code",
      "source": [
        "from google.colab import drive\n",
        "drive.mount('/content/drive')"
      ],
      "metadata": {
        "colab": {
          "base_uri": "https://localhost:8080/"
        },
        "id": "3w8-baZFhtP4",
        "outputId": "d2c0a6d4-5cd3-48a9-c413-97b46017ee67"
      },
      "execution_count": null,
      "outputs": [
        {
          "output_type": "stream",
          "name": "stdout",
          "text": [
            "Mounted at /content/drive\n"
          ]
        }
      ]
    },
    {
      "cell_type": "markdown",
      "source": [
        "Install mamba which is could not directly inclde by lm_eval\n",
        "\n",
        "\n"
      ],
      "metadata": {
        "id": "7MwpKG_px_Tk"
      }
    },
    {
      "cell_type": "code",
      "source": [
        "!git clone https://github.com/state-spaces/mamba.git\n",
        "!pip install causal-conv1d>=1.1.0\n",
        "!pip install mamba-ssm"
      ],
      "metadata": {
        "id": "5g-Sor9_h0IA"
      },
      "execution_count": null,
      "outputs": []
    },
    {
      "cell_type": "code",
      "execution_count": null,
      "metadata": {
        "colab": {
          "base_uri": "https://localhost:8080/",
          "height": 49,
          "referenced_widgets": [
            "cfdde9b70d6849a0993eddbe23f46269",
            "798e7596a8d14543a41d8741463b97d0",
            "b756e52b98984cfca379cb5fec0fc39e",
            "7ac18b8b494f4112aabac30ea68cfcda",
            "f2ab8a8405ff4bccb4702a97118ee6f8",
            "22f7a3ae55674765ab6f792f84822f76",
            "87717663d2a54de98e0b898aa87904e5",
            "690f0d06b4094b7ebb3f82c234918d75",
            "625a27770ae045fcbf9d04ee27e8c78b",
            "6f44f5f95d664ac9b69a2ae9537423b5",
            "aa3ce7eca8634be8872009a73d7ed6ea"
          ]
        },
        "id": "uyO5MaKkZyah",
        "outputId": "7f6b3071-3bc6-4f9c-eb64-7f1bc094d907"
      },
      "outputs": [
        {
          "output_type": "display_data",
          "data": {
            "text/plain": [
              "Downloading builder script:   0%|          | 0.00/5.67k [00:00<?, ?B/s]"
            ],
            "application/vnd.jupyter.widget-view+json": {
              "version_major": 2,
              "version_minor": 0,
              "model_id": "cfdde9b70d6849a0993eddbe23f46269"
            }
          },
          "metadata": {}
        }
      ],
      "source": [
        "from lm_eval import api"
      ]
    },
    {
      "cell_type": "markdown",
      "source": [
        "## LLM"
      ],
      "metadata": {
        "id": "x16EWPs28yWa"
      }
    },
    {
      "cell_type": "markdown",
      "source": [
        "**mamba-130m**"
      ],
      "metadata": {
        "id": "-U4rSJvUysbt"
      }
    },
    {
      "cell_type": "code",
      "source": [
        "!python /content/mamba/evals/lm_harness_eval.py --model mamba --model_args pretrained=state-spaces/mamba-130m --tasks hellaswag,openbookqa,winogrande,arc_easy,arc_challenge,boolq,piqa --device cuda:0 --batch_size 10\n"
      ],
      "metadata": {
        "id": "dflhoUWJiEXn"
      },
      "execution_count": null,
      "outputs": []
    },
    {
      "cell_type": "markdown",
      "source": [
        "Making libcuda.so could used in Colab"
      ],
      "metadata": {
        "id": "dJOzbVDqyg24"
      }
    },
    {
      "cell_type": "code",
      "source": [
        "# !ldconfig -p | grep libcuda\n",
        "# !find /usr -name 'libcuda.so'"
      ],
      "metadata": {
        "colab": {
          "base_uri": "https://localhost:8080/"
        },
        "id": "pmKwT2hcmvDw",
        "outputId": "d10daf6b-92aa-4616-dd0a-7421f3831fed"
      },
      "execution_count": null,
      "outputs": [
        {
          "output_type": "stream",
          "name": "stdout",
          "text": [
            "/usr/local/cuda-12.2/targets/x86_64-linux/lib/stubs/libcuda.so\n",
            "/usr/local/cuda-12.2/compat/libcuda.so\n",
            "/usr/lib64-nvidia/libcuda.so\n"
          ]
        }
      ]
    },
    {
      "cell_type": "code",
      "source": [
        "# !ldconfig /usr/lib64-nvidia\n",
        "# !export LC_ALL=\"en_US.UTF-8\"\n",
        "# !export LD_LIBRARY_PATH=\"/usr/lib64-nvidia\"\n",
        "# !export LIBRARY_PATH=\"/usr/local/cuda/lib64/stubs\"\n",
        "# !ldconfig /usr/lib64-nvidia"
      ],
      "metadata": {
        "colab": {
          "base_uri": "https://localhost:8080/"
        },
        "id": "1CrXwidEnRGx",
        "outputId": "31d6081d-688a-479c-a3a9-96618854da54"
      },
      "execution_count": null,
      "outputs": [
        {
          "output_type": "stream",
          "name": "stdout",
          "text": [
            "/sbin/ldconfig.real: /usr/local/lib/libtbbbind_2_5.so.3 is not a symbolic link\n",
            "\n",
            "/sbin/ldconfig.real: /usr/local/lib/libtbbbind_2_0.so.3 is not a symbolic link\n",
            "\n",
            "/sbin/ldconfig.real: /usr/local/lib/libtbbmalloc_proxy.so.2 is not a symbolic link\n",
            "\n",
            "/sbin/ldconfig.real: /usr/local/lib/libtbbbind.so.3 is not a symbolic link\n",
            "\n",
            "/sbin/ldconfig.real: /usr/local/lib/libtbb.so.12 is not a symbolic link\n",
            "\n",
            "/sbin/ldconfig.real: /usr/local/lib/libtbbmalloc.so.2 is not a symbolic link\n",
            "\n"
          ]
        }
      ]
    },
    {
      "cell_type": "markdown",
      "source": [
        "**TinyLlama-1.1B-Chat-v0.1**\n",
        "\n"
      ],
      "metadata": {
        "id": "E8bWJ55iy0Qw"
      }
    },
    {
      "cell_type": "code",
      "execution_count": null,
      "metadata": {
        "colab": {
          "base_uri": "https://localhost:8080/"
        },
        "id": "1DIrfONz8UwK",
        "outputId": "706642d3-2fc8-4860-c21f-c8f73277510a"
      },
      "outputs": [
        {
          "output_type": "stream",
          "name": "stdout",
          "text": [
            "2024-02-21:12:20:36,028 INFO     [utils.py:160] NumExpr defaulting to 2 threads.\n",
            "2024-02-21:12:20:36,313 INFO     [config.py:58] PyTorch version 2.1.0+cu121 available.\n",
            "2024-02-21:12:20:36,314 INFO     [config.py:95] TensorFlow version 2.15.0 available.\n",
            "2024-02-21:12:20:36,315 INFO     [config.py:108] JAX version 0.4.23 available.\n",
            "2024-02-21 12:20:36.836273: E external/local_xla/xla/stream_executor/cuda/cuda_dnn.cc:9261] Unable to register cuDNN factory: Attempting to register factory for plugin cuDNN when one has already been registered\n",
            "2024-02-21 12:20:36.836329: E external/local_xla/xla/stream_executor/cuda/cuda_fft.cc:607] Unable to register cuFFT factory: Attempting to register factory for plugin cuFFT when one has already been registered\n",
            "2024-02-21 12:20:36.837646: E external/local_xla/xla/stream_executor/cuda/cuda_blas.cc:1515] Unable to register cuBLAS factory: Attempting to register factory for plugin cuBLAS when one has already been registered\n",
            "2024-02-21 12:20:38.422101: W tensorflow/compiler/tf2tensorrt/utils/py_utils.cc:38] TF-TRT Warning: Could not find TensorRT\n",
            "2024-02-21:12:20:43,129 INFO     [__main__.py:132] Verbosity set to INFO\n",
            "2024-02-21:12:20:55,012 INFO     [__main__.py:205] Selected Tasks: ['arc_challenge', 'arc_easy', 'boolq', 'hellaswag', 'openbookqa', 'piqa', 'winogrande']\n",
            "2024-02-21:12:20:55,013 WARNING  [evaluator.py:93] generation_kwargs specified through cli, these settings will be used over set parameters in yaml tasks.\n",
            "2024-02-21:12:20:55,072 INFO     [huggingface.py:120] Using device 'cuda:0'\n",
            "config.json: 100% 652/652 [00:00<00:00, 2.78MB/s]\n",
            "model.safetensors: 100% 4.40G/4.40G [06:56<00:00, 10.6MB/s]\n",
            "generation_config.json: 100% 63.0/63.0 [00:00<00:00, 344kB/s]\n",
            "tokenizer_config.json: 100% 762/762 [00:00<00:00, 2.74MB/s]\n",
            "tokenizer.model: 100% 500k/500k [00:01<00:00, 426kB/s]\n",
            "tokenizer.json: 100% 1.84M/1.84M [00:00<00:00, 2.51MB/s]\n",
            "added_tokens.json: 100% 21.0/21.0 [00:00<00:00, 95.1kB/s]\n",
            "special_tokens_map.json: 100% 438/438 [00:00<00:00, 2.30MB/s]\n",
            "Downloading readme: 100% 9.00k/9.00k [00:00<00:00, 24.5MB/s]\n",
            "Downloading data: 100% 190k/190k [00:00<00:00, 357kB/s]\n",
            "Downloading data: 100% 204k/204k [00:00<00:00, 383kB/s]\n",
            "Downloading data: 100% 55.7k/55.7k [00:00<00:00, 104kB/s]\n",
            "Generating train split: 100% 1119/1119 [00:00<00:00, 28217.39 examples/s]\n",
            "Generating test split: 100% 1172/1172 [00:00<00:00, 245958.39 examples/s]\n",
            "Generating validation split: 100% 299/299 [00:00<00:00, 109623.85 examples/s]\n",
            "Downloading data: 100% 331k/331k [00:02<00:00, 127kB/s]\n",
            "Downloading data: 100% 346k/346k [00:00<00:00, 638kB/s]\n",
            "Downloading data: 100% 86.1k/86.1k [00:00<00:00, 159kB/s]\n",
            "Generating train split: 100% 2251/2251 [00:00<00:00, 308672.91 examples/s]\n",
            "Generating test split: 100% 2376/2376 [00:00<00:00, 385638.35 examples/s]\n",
            "Generating validation split: 100% 570/570 [00:00<00:00, 183396.23 examples/s]\n",
            "2024-02-21:12:28:37,707 WARNING  [task.py:614] [Task: boolq] metric acc is defined, but aggregation is not. using default aggregation=mean\n",
            "2024-02-21:12:28:37,708 WARNING  [task.py:626] [Task: boolq] metric acc is defined, but higher_is_better is not. using default higher_is_better=True\n",
            "Downloading data: 100% 3.85M/3.85M [00:03<00:00, 1.15MB/s]\n",
            "Downloading data: 100% 1.31M/1.31M [00:02<00:00, 461kB/s]\n",
            "Downloading data: 100% 1.31M/1.31M [00:02<00:00, 481kB/s]\n",
            "Generating train split: 100% 9427/9427 [00:00<00:00, 281131.24 examples/s]\n",
            "Generating validation split: 100% 3270/3270 [00:00<00:00, 294403.46 examples/s]\n",
            "Generating test split: 100% 3245/3245 [00:00<00:00, 308369.77 examples/s]\n",
            "/usr/local/lib/python3.10/dist-packages/datasets/load.py:1454: FutureWarning: The repository for hellaswag contains custom code which must be executed to correctly load the dataset. You can inspect the repository content at https://hf.co/datasets/hellaswag\n",
            "You can avoid this message in future by passing the argument `trust_remote_code=True`.\n",
            "Passing `trust_remote_code=True` will be mandatory to load this dataset from the next major release of `datasets`.\n",
            "  warnings.warn(\n",
            "Downloading builder script: 100% 4.36k/4.36k [00:00<00:00, 14.5MB/s]\n",
            "Downloading metadata: 100% 2.53k/2.53k [00:00<00:00, 12.7MB/s]\n",
            "Downloading readme: 100% 6.84k/6.84k [00:00<00:00, 24.1MB/s]\n",
            "Downloading data: 47.5MB [00:00, 69.3MB/s]\n",
            "Downloading data: 11.8MB [00:00, 67.2MB/s]\n",
            "Downloading data: 12.2MB [00:00, 63.9MB/s]\n",
            "Generating train split: 100% 39905/39905 [00:05<00:00, 7415.77 examples/s]\n",
            "Generating test split: 100% 10003/10003 [00:01<00:00, 9375.65 examples/s]\n",
            "Generating validation split: 100% 10042/10042 [00:01<00:00, 9430.85 examples/s]\n",
            "Map: 100% 39905/39905 [00:06<00:00, 6196.94 examples/s]\n",
            "Map: 100% 10042/10042 [00:01<00:00, 5996.56 examples/s]\n",
            "Downloading readme: 100% 9.06k/9.06k [00:00<00:00, 24.7MB/s]\n",
            "Downloading data: 100% 496k/496k [00:01<00:00, 383kB/s]\n",
            "Downloading data: 100% 58.2k/58.2k [00:00<00:00, 214kB/s]\n",
            "Downloading data: 100% 55.5k/55.5k [00:01<00:00, 43.1kB/s]\n",
            "Generating train split: 100% 4957/4957 [00:00<00:00, 575916.59 examples/s]\n",
            "Generating validation split: 100% 500/500 [00:00<00:00, 192540.58 examples/s]\n",
            "Generating test split: 100% 500/500 [00:00<00:00, 197751.25 examples/s]\n",
            "Downloading data: 100% 2.66M/2.66M [00:00<00:00, 7.30MB/s]\n",
            "Downloading data: 100% 502k/502k [00:00<00:00, 1.85MB/s]\n",
            "Downloading data: 100% 301k/301k [00:00<00:00, 588kB/s]\n",
            "Generating train split: 100% 16113/16113 [00:00<00:00, 749039.31 examples/s]\n",
            "Generating test split: 100% 3084/3084 [00:00<00:00, 266837.89 examples/s]\n",
            "Generating validation split: 100% 1838/1838 [00:00<00:00, 543202.56 examples/s]\n",
            "Downloading data: 100% 2.06M/2.06M [00:00<00:00, 4.25MB/s]\n",
            "Downloading data: 100% 118k/118k [00:00<00:00, 448kB/s]\n",
            "Downloading data: 100% 85.9k/85.9k [00:00<00:00, 329kB/s]\n",
            "Generating train split: 100% 40398/40398 [00:00<00:00, 1281318.01 examples/s]\n",
            "Generating test split: 100% 1767/1767 [00:00<00:00, 557494.75 examples/s]\n",
            "Generating validation split: 100% 1267/1267 [00:00<00:00, 484517.06 examples/s]\n",
            "2024-02-21:12:30:14,381 INFO     [task.py:355] Building contexts for task on rank 0...\n",
            "2024-02-21:12:30:15,745 INFO     [task.py:355] Building contexts for task on rank 0...\n",
            "2024-02-21:12:30:18,812 INFO     [task.py:355] Building contexts for task on rank 0...\n",
            "2024-02-21:12:30:21,689 INFO     [task.py:355] Building contexts for task on rank 0...\n",
            "2024-02-21:12:30:33,034 INFO     [task.py:355] Building contexts for task on rank 0...\n",
            "2024-02-21:12:30:33,357 INFO     [task.py:355] Building contexts for task on rank 0...\n",
            "2024-02-21:12:30:35,891 INFO     [task.py:355] Building contexts for task on rank 0...\n",
            "2024-02-21:12:30:35,964 INFO     [evaluator.py:319] Running loglikelihood requests\n",
            "100% 69106/69106 [1:02:23<00:00, 18.46it/s] \n",
            "fatal: not a git repository (or any of the parent directories): .git\n",
            "hf-auto (pretrained=PY007/TinyLlama-1.1B-Chat-v0.1,dtype=float), gen_kwargs: (), limit: None, num_fewshot: None, batch_size: 10\n",
            "|    Tasks    |Version|Filter|n-shot| Metric |Value |   |Stderr|\n",
            "|-------------|-------|------|-----:|--------|-----:|---|-----:|\n",
            "|arc_challenge|Yaml   |none  |     0|acc     |0.2560|±  |0.0128|\n",
            "|             |       |none  |     0|acc_norm|0.2867|±  |0.0132|\n",
            "|arc_easy     |Yaml   |none  |     0|acc     |0.5341|±  |0.0102|\n",
            "|             |       |none  |     0|acc_norm|0.4962|±  |0.0103|\n",
            "|boolq        |Yaml   |none  |     0|acc     |0.5804|±  |0.0086|\n",
            "|hellaswag    |Yaml   |none  |     0|acc     |0.4206|±  |0.0049|\n",
            "|             |       |none  |     0|acc_norm|0.5381|±  |0.0050|\n",
            "|openbookqa   |Yaml   |none  |     0|acc     |0.2520|±  |0.0194|\n",
            "|             |       |none  |     0|acc_norm|0.3220|±  |0.0209|\n",
            "|piqa         |Yaml   |none  |     0|acc     |0.6959|±  |0.0107|\n",
            "|             |       |none  |     0|acc_norm|0.6964|±  |0.0107|\n",
            "|winogrande   |Yaml   |none  |     0|acc     |0.5501|±  |0.0140|\n",
            "\n"
          ]
        }
      ],
      "source": [
        "!lm_eval \\\n",
        "    --model hf-auto \\\n",
        "    --model_args pretrained=PY007/TinyLlama-1.1B-Chat-v0.1,dtype=\"float\" \\\n",
        "    --tasks hellaswag,openbookqa,winogrande,arc_easy,arc_challenge,boolq,piqa\\\n",
        "    --device cuda:0 --batch_size 10"
      ]
    },
    {
      "cell_type": "markdown",
      "source": [
        "**phi-2**"
      ],
      "metadata": {
        "id": "2Z3pzEL4y8ac"
      }
    },
    {
      "cell_type": "code",
      "execution_count": null,
      "metadata": {
        "colab": {
          "base_uri": "https://localhost:8080/"
        },
        "id": "NjcM3igpAAws",
        "outputId": "12e686da-18ef-42f7-f923-e4c1744f18dc"
      },
      "outputs": [
        {
          "output_type": "stream",
          "name": "stdout",
          "text": [
            "2024-02-21:06:10:58,125 INFO     [utils.py:160] NumExpr defaulting to 2 threads.\n",
            "2024-02-21:06:10:58,551 INFO     [config.py:58] PyTorch version 2.1.0+cu121 available.\n",
            "2024-02-21:06:10:58,552 INFO     [config.py:95] TensorFlow version 2.15.0 available.\n",
            "2024-02-21:06:10:58,553 INFO     [config.py:108] JAX version 0.4.23 available.\n",
            "2024-02-21 06:10:59.381432: E external/local_xla/xla/stream_executor/cuda/cuda_dnn.cc:9261] Unable to register cuDNN factory: Attempting to register factory for plugin cuDNN when one has already been registered\n",
            "2024-02-21 06:10:59.381481: E external/local_xla/xla/stream_executor/cuda/cuda_fft.cc:607] Unable to register cuFFT factory: Attempting to register factory for plugin cuFFT when one has already been registered\n",
            "2024-02-21 06:10:59.382712: E external/local_xla/xla/stream_executor/cuda/cuda_blas.cc:1515] Unable to register cuBLAS factory: Attempting to register factory for plugin cuBLAS when one has already been registered\n",
            "2024-02-21 06:11:01.261806: W tensorflow/compiler/tf2tensorrt/utils/py_utils.cc:38] TF-TRT Warning: Could not find TensorRT\n",
            "2024-02-21:06:11:05,958 INFO     [__main__.py:132] Verbosity set to INFO\n",
            "2024-02-21:06:11:15,202 INFO     [__main__.py:205] Selected Tasks: ['arc_challenge', 'arc_easy', 'boolq', 'hellaswag', 'openbookqa', 'piqa', 'winogrande']\n",
            "2024-02-21:06:11:15,203 WARNING  [evaluator.py:93] generation_kwargs specified through cli, these settings will be used over set parameters in yaml tasks.\n",
            "2024-02-21:06:11:15,233 INFO     [huggingface.py:120] Using device 'cuda:0'\n",
            "Loading checkpoint shards: 100% 2/2 [00:00<00:00,  3.18it/s]\n",
            "Special tokens have been added in the vocabulary, make sure the associated word embeddings are fine-tuned or trained.\n",
            "2024-02-21:06:11:33,081 WARNING  [task.py:614] [Task: boolq] metric acc is defined, but aggregation is not. using default aggregation=mean\n",
            "2024-02-21:06:11:33,081 WARNING  [task.py:626] [Task: boolq] metric acc is defined, but higher_is_better is not. using default higher_is_better=True\n",
            "/usr/local/lib/python3.10/dist-packages/datasets/load.py:1454: FutureWarning: The repository for hellaswag contains custom code which must be executed to correctly load the dataset. You can inspect the repository content at https://hf.co/datasets/hellaswag\n",
            "You can avoid this message in future by passing the argument `trust_remote_code=True`.\n",
            "Passing `trust_remote_code=True` will be mandatory to load this dataset from the next major release of `datasets`.\n",
            "  warnings.warn(\n",
            "2024-02-21:06:11:46,715 INFO     [task.py:355] Building contexts for task on rank 0...\n",
            "2024-02-21:06:11:48,032 INFO     [task.py:355] Building contexts for task on rank 0...\n",
            "2024-02-21:06:11:51,030 INFO     [task.py:355] Building contexts for task on rank 0...\n",
            "2024-02-21:06:11:53,588 INFO     [task.py:355] Building contexts for task on rank 0...\n",
            "2024-02-21:06:12:04,366 INFO     [task.py:355] Building contexts for task on rank 0...\n",
            "2024-02-21:06:12:04,844 INFO     [task.py:355] Building contexts for task on rank 0...\n",
            "2024-02-21:06:12:07,858 INFO     [task.py:355] Building contexts for task on rank 0...\n",
            "2024-02-21:06:12:07,925 INFO     [evaluator.py:319] Running loglikelihood requests\n",
            "100% 69106/69106 [31:44<00:00, 36.29it/s] \n",
            "fatal: not a git repository (or any of the parent directories): .git\n",
            "hf-auto (pretrained=microsoft/phi-2), gen_kwargs: (), limit: None, num_fewshot: None, batch_size: 10\n",
            "|    Tasks    |Version|Filter|n-shot| Metric |Value |   |Stderr|\n",
            "|-------------|-------|------|-----:|--------|-----:|---|-----:|\n",
            "|arc_challenge|Yaml   |none  |     0|acc     |0.5290|±  |0.0146|\n",
            "|             |       |none  |     0|acc_norm|0.5392|±  |0.0146|\n",
            "|arc_easy     |Yaml   |none  |     0|acc     |0.8001|±  |0.0082|\n",
            "|             |       |none  |     0|acc_norm|0.7828|±  |0.0085|\n",
            "|boolq        |Yaml   |none  |     0|acc     |0.8355|±  |0.0065|\n",
            "|hellaswag    |Yaml   |none  |     0|acc     |0.5577|±  |0.0050|\n",
            "|             |       |none  |     0|acc_norm|0.7378|±  |0.0044|\n",
            "|openbookqa   |Yaml   |none  |     0|acc     |0.4040|±  |0.0220|\n",
            "|             |       |none  |     0|acc_norm|0.5140|±  |0.0224|\n",
            "|piqa         |Yaml   |none  |     0|acc     |0.7862|±  |0.0096|\n",
            "|             |       |none  |     0|acc_norm|0.7922|±  |0.0095|\n",
            "|winogrande   |Yaml   |none  |     0|acc     |0.7561|±  |0.0121|\n",
            "\n"
          ]
        }
      ],
      "source": [
        "!lm_eval \\\n",
        "    --model hf-auto \\\n",
        "    --model_args pretrained=microsoft/phi-2\\\n",
        "    --tasks hellaswag,openbookqa,winogrande,arc_easy,arc_challenge,boolq,piqa\\\n",
        "    --device cuda:0 --batch_size 10\n"
      ]
    },
    {
      "cell_type": "markdown",
      "source": [
        "**pythia-1b**"
      ],
      "metadata": {
        "id": "-FprsQtIzToE"
      }
    },
    {
      "cell_type": "code",
      "execution_count": null,
      "metadata": {
        "id": "C3YAZmPr-g4o",
        "colab": {
          "base_uri": "https://localhost:8080/"
        },
        "outputId": "e0384ab1-958c-4d82-bef6-038e6c98db7c"
      },
      "outputs": [
        {
          "output_type": "stream",
          "name": "stdout",
          "text": [
            "2024-02-22:07:54:31,676 INFO     [utils.py:160] NumExpr defaulting to 2 threads.\n",
            "2024-02-22:07:54:31,937 INFO     [config.py:58] PyTorch version 2.1.0+cu121 available.\n",
            "2024-02-22:07:54:31,937 INFO     [config.py:95] TensorFlow version 2.15.0 available.\n",
            "2024-02-22:07:54:31,938 INFO     [config.py:108] JAX version 0.4.23 available.\n",
            "2024-02-22 07:54:32.421249: E external/local_xla/xla/stream_executor/cuda/cuda_dnn.cc:9261] Unable to register cuDNN factory: Attempting to register factory for plugin cuDNN when one has already been registered\n",
            "2024-02-22 07:54:32.421304: E external/local_xla/xla/stream_executor/cuda/cuda_fft.cc:607] Unable to register cuFFT factory: Attempting to register factory for plugin cuFFT when one has already been registered\n",
            "2024-02-22 07:54:32.422531: E external/local_xla/xla/stream_executor/cuda/cuda_blas.cc:1515] Unable to register cuBLAS factory: Attempting to register factory for plugin cuBLAS when one has already been registered\n",
            "2024-02-22 07:54:33.531754: W tensorflow/compiler/tf2tensorrt/utils/py_utils.cc:38] TF-TRT Warning: Could not find TensorRT\n",
            "2024-02-22:07:54:36,547 INFO     [__main__.py:132] Verbosity set to INFO\n",
            "2024-02-22:07:54:45,435 INFO     [__main__.py:205] Selected Tasks: ['arc_challenge', 'arc_easy', 'boolq', 'hellaswag', 'openbookqa', 'piqa', 'winogrande']\n",
            "2024-02-22:07:54:45,436 WARNING  [evaluator.py:93] generation_kwargs specified through cli, these settings will be used over set parameters in yaml tasks.\n",
            "2024-02-22:07:54:45,487 INFO     [huggingface.py:120] Using device 'cuda:0'\n",
            "config.json: 100% 569/569 [00:00<00:00, 3.04MB/s]\n",
            "model.safetensors: 100% 2.09G/2.09G [00:16<00:00, 124MB/s] \n",
            "tokenizer_config.json: 100% 396/396 [00:00<00:00, 1.86MB/s]\n",
            "tokenizer.json: 100% 2.11M/2.11M [00:00<00:00, 8.30MB/s]\n",
            "special_tokens_map.json: 100% 99.0/99.0 [00:00<00:00, 593kB/s]\n",
            "Special tokens have been added in the vocabulary, make sure the associated word embeddings are fine-tuned or trained.\n",
            "Downloading readme: 100% 9.00k/9.00k [00:00<00:00, 27.2MB/s]\n",
            "Downloading data: 100% 190k/190k [00:00<00:00, 888kB/s]\n",
            "Downloading data: 100% 204k/204k [00:00<00:00, 1.09MB/s]\n",
            "Downloading data: 100% 55.7k/55.7k [00:00<00:00, 297kB/s]\n",
            "Generating train split: 100% 1119/1119 [00:00<00:00, 29991.86 examples/s]\n",
            "Generating test split: 100% 1172/1172 [00:00<00:00, 306332.92 examples/s]\n",
            "Generating validation split: 100% 299/299 [00:00<00:00, 135387.77 examples/s]\n",
            "Downloading data: 100% 331k/331k [00:00<00:00, 1.26MB/s]\n",
            "Downloading data: 100% 346k/346k [00:00<00:00, 1.84MB/s]\n",
            "Downloading data: 100% 86.1k/86.1k [00:00<00:00, 183kB/s]\n",
            "Generating train split: 100% 2251/2251 [00:00<00:00, 373383.62 examples/s]\n",
            "Generating test split: 100% 2376/2376 [00:00<00:00, 462165.11 examples/s]\n",
            "Generating validation split: 100% 570/570 [00:00<00:00, 223497.55 examples/s]\n",
            "2024-02-22:07:55:19,707 WARNING  [task.py:614] [Task: boolq] metric acc is defined, but aggregation is not. using default aggregation=mean\n",
            "2024-02-22:07:55:19,707 WARNING  [task.py:626] [Task: boolq] metric acc is defined, but higher_is_better is not. using default higher_is_better=True\n",
            "Downloading data: 100% 3.85M/3.85M [00:00<00:00, 24.1MB/s]\n",
            "Downloading data: 100% 1.31M/1.31M [00:00<00:00, 10.1MB/s]\n",
            "Downloading data: 100% 1.31M/1.31M [00:00<00:00, 9.91MB/s]\n",
            "Generating train split: 100% 9427/9427 [00:00<00:00, 320681.46 examples/s]\n",
            "Generating validation split: 100% 3270/3270 [00:00<00:00, 246981.45 examples/s]\n",
            "Generating test split: 100% 3245/3245 [00:00<00:00, 345734.16 examples/s]\n",
            "/usr/local/lib/python3.10/dist-packages/datasets/load.py:1454: FutureWarning: The repository for hellaswag contains custom code which must be executed to correctly load the dataset. You can inspect the repository content at https://hf.co/datasets/hellaswag\n",
            "You can avoid this message in future by passing the argument `trust_remote_code=True`.\n",
            "Passing `trust_remote_code=True` will be mandatory to load this dataset from the next major release of `datasets`.\n",
            "  warnings.warn(\n",
            "Downloading builder script: 100% 4.36k/4.36k [00:00<00:00, 15.1MB/s]\n",
            "Downloading metadata: 100% 2.53k/2.53k [00:00<00:00, 11.5MB/s]\n",
            "Downloading readme: 100% 6.84k/6.84k [00:00<00:00, 19.9MB/s]\n",
            "Downloading data: 47.5MB [00:00, 71.6MB/s]\n",
            "Downloading data: 11.8MB [00:00, 38.5MB/s]\n",
            "Downloading data: 12.2MB [00:00, 50.9MB/s]\n",
            "Generating train split: 100% 39905/39905 [00:04<00:00, 9454.77 examples/s]\n",
            "Generating test split: 100% 10003/10003 [00:01<00:00, 9773.62 examples/s]\n",
            "Generating validation split: 100% 10042/10042 [00:01<00:00, 9754.46 examples/s]\n",
            "Map: 100% 39905/39905 [00:07<00:00, 5500.00 examples/s]\n",
            "Map: 100% 10042/10042 [00:01<00:00, 6994.16 examples/s]\n",
            "Downloading readme: 100% 9.06k/9.06k [00:00<00:00, 23.9MB/s]\n",
            "Downloading data: 100% 496k/496k [00:00<00:00, 4.79MB/s]\n",
            "Downloading data: 100% 58.2k/58.2k [00:00<00:00, 236kB/s]\n",
            "Downloading data: 100% 55.5k/55.5k [00:00<00:00, 534kB/s]\n",
            "Generating train split: 100% 4957/4957 [00:00<00:00, 591700.29 examples/s]\n",
            "Generating validation split: 100% 500/500 [00:00<00:00, 207762.23 examples/s]\n",
            "Generating test split: 100% 500/500 [00:00<00:00, 178602.62 examples/s]\n",
            "Downloading data: 100% 2.66M/2.66M [00:00<00:00, 18.6MB/s]\n",
            "Downloading data: 100% 502k/502k [00:00<00:00, 1.77MB/s]\n",
            "Downloading data: 100% 301k/301k [00:00<00:00, 1.94MB/s]\n",
            "Generating train split: 100% 16113/16113 [00:00<00:00, 817313.31 examples/s]\n",
            "Generating test split: 100% 3084/3084 [00:00<00:00, 631757.44 examples/s]\n",
            "Generating validation split: 100% 1838/1838 [00:00<00:00, 542858.30 examples/s]\n",
            "Downloading data: 100% 2.06M/2.06M [00:00<00:00, 18.1MB/s]\n",
            "Downloading data: 100% 118k/118k [00:00<00:00, 1.31MB/s]\n",
            "Downloading data: 100% 85.9k/85.9k [00:00<00:00, 571kB/s]\n",
            "Generating train split: 100% 40398/40398 [00:00<00:00, 1036979.99 examples/s]\n",
            "Generating test split: 100% 1767/1767 [00:00<00:00, 500596.77 examples/s]\n",
            "Generating validation split: 100% 1267/1267 [00:00<00:00, 418571.45 examples/s]\n",
            "2024-02-22:07:56:03,707 INFO     [task.py:355] Building contexts for task on rank 0...\n",
            "2024-02-22:07:56:04,962 INFO     [task.py:355] Building contexts for task on rank 0...\n",
            "2024-02-22:07:56:07,487 INFO     [task.py:355] Building contexts for task on rank 0...\n",
            "2024-02-22:07:56:09,549 INFO     [task.py:355] Building contexts for task on rank 0...\n",
            "2024-02-22:07:56:20,724 INFO     [task.py:355] Building contexts for task on rank 0...\n",
            "2024-02-22:07:56:21,049 INFO     [task.py:355] Building contexts for task on rank 0...\n",
            "2024-02-22:07:56:23,010 INFO     [task.py:355] Building contexts for task on rank 0...\n",
            "2024-02-22:07:56:23,080 INFO     [evaluator.py:319] Running loglikelihood requests\n",
            "100% 69106/69106 [22:57<00:00, 50.18it/s]\n",
            "fatal: not a git repository (or any of the parent directories): .git\n",
            "hf-auto (pretrained=EleutherAI/pythia-1b), gen_kwargs: (), limit: None, num_fewshot: None, batch_size: 1\n",
            "|    Tasks    |Version|Filter|n-shot| Metric |Value |   |Stderr|\n",
            "|-------------|-------|------|-----:|--------|-----:|---|-----:|\n",
            "|arc_challenge|Yaml   |none  |     0|acc     |0.2432|±  |0.0125|\n",
            "|             |       |none  |     0|acc_norm|0.2705|±  |0.0130|\n",
            "|arc_easy     |Yaml   |none  |     0|acc     |0.5703|±  |0.0102|\n",
            "|             |       |none  |     0|acc_norm|0.4907|±  |0.0103|\n",
            "|boolq        |Yaml   |none  |     0|acc     |0.6080|±  |0.0085|\n",
            "|hellaswag    |Yaml   |none  |     0|acc     |0.3773|±  |0.0048|\n",
            "|             |       |none  |     0|acc_norm|0.4717|±  |0.0050|\n",
            "|openbookqa   |Yaml   |none  |     0|acc     |0.1860|±  |0.0174|\n",
            "|             |       |none  |     0|acc_norm|0.3140|±  |0.0208|\n",
            "|piqa         |Yaml   |none  |     0|acc     |0.7084|±  |0.0106|\n",
            "|             |       |none  |     0|acc_norm|0.6942|±  |0.0107|\n",
            "|winogrande   |Yaml   |none  |     0|acc     |0.5359|±  |0.0140|\n",
            "\n"
          ]
        }
      ],
      "source": [
        "!lm_eval \\\n",
        "    --model hf-auto \\\n",
        "    --model_args pretrained=EleutherAI/pythia-1b\\\n",
        "    --tasks hellaswag,openbookqa,winogrande,arc_easy,arc_challenge,boolq,piqa\\\n",
        "    --device cuda:0 --batch_size 10"
      ]
    },
    {
      "cell_type": "markdown",
      "source": [
        "| Model                                         | HSwag | OBQA | WinoGrande | ARC_c | ARC_e | boolq | piqa | avg   |\n",
        "|-----------------------------------------------|-------|------|---------|-------|-------|-------|------|-------|\n",
        "| state-spaces/mamba-130m                | 35.30 | 28.60 | 52.41   | 42.05 | 24.23 | 55.14 | 63.33| 43.01 |\n",
        "| microsoft/phi-2                     | 73.78 | 51.40 | 75.61   | 78.28 | 53.92 | 83.55 | 79.22| 70.82 |\n",
        "| EleutherAI/pythia-1b                | 47.17 | 31.40 | 53.59   | 49.07 | 27.05 | 60.80 | 69.42| 48.36 |\n",
        "| PY007/TinyLlama-1.1B-Chat-v0.1      | 53.81 | 32.20 | 55.01   | 49.62 | 28.67 | 58.04 | 69.64| 49.57 |\n"
      ],
      "metadata": {
        "id": "0k8IDLKM8RX_"
      }
    },
    {
      "cell_type": "code",
      "source": [],
      "metadata": {
        "id": "g_Lf8TJc8VKt"
      },
      "execution_count": null,
      "outputs": []
    }
  ],
  "metadata": {
    "accelerator": "GPU",
    "colab": {
      "collapsed_sections": [
        "zAov81vTbL2K"
      ],
      "gpuType": "T4",
      "provenance": [],
      "include_colab_link": true
    },
    "kernelspec": {
      "display_name": "Python 3",
      "name": "python3"
    },
    "language_info": {
      "name": "python"
    },
    "widgets": {
      "application/vnd.jupyter.widget-state+json": {
        "cfdde9b70d6849a0993eddbe23f46269": {
          "model_module": "@jupyter-widgets/controls",
          "model_name": "HBoxModel",
          "model_module_version": "1.5.0",
          "state": {
            "_dom_classes": [],
            "_model_module": "@jupyter-widgets/controls",
            "_model_module_version": "1.5.0",
            "_model_name": "HBoxModel",
            "_view_count": null,
            "_view_module": "@jupyter-widgets/controls",
            "_view_module_version": "1.5.0",
            "_view_name": "HBoxView",
            "box_style": "",
            "children": [
              "IPY_MODEL_798e7596a8d14543a41d8741463b97d0",
              "IPY_MODEL_b756e52b98984cfca379cb5fec0fc39e",
              "IPY_MODEL_7ac18b8b494f4112aabac30ea68cfcda"
            ],
            "layout": "IPY_MODEL_f2ab8a8405ff4bccb4702a97118ee6f8"
          }
        },
        "798e7596a8d14543a41d8741463b97d0": {
          "model_module": "@jupyter-widgets/controls",
          "model_name": "HTMLModel",
          "model_module_version": "1.5.0",
          "state": {
            "_dom_classes": [],
            "_model_module": "@jupyter-widgets/controls",
            "_model_module_version": "1.5.0",
            "_model_name": "HTMLModel",
            "_view_count": null,
            "_view_module": "@jupyter-widgets/controls",
            "_view_module_version": "1.5.0",
            "_view_name": "HTMLView",
            "description": "",
            "description_tooltip": null,
            "layout": "IPY_MODEL_22f7a3ae55674765ab6f792f84822f76",
            "placeholder": "​",
            "style": "IPY_MODEL_87717663d2a54de98e0b898aa87904e5",
            "value": "Downloading builder script: 100%"
          }
        },
        "b756e52b98984cfca379cb5fec0fc39e": {
          "model_module": "@jupyter-widgets/controls",
          "model_name": "FloatProgressModel",
          "model_module_version": "1.5.0",
          "state": {
            "_dom_classes": [],
            "_model_module": "@jupyter-widgets/controls",
            "_model_module_version": "1.5.0",
            "_model_name": "FloatProgressModel",
            "_view_count": null,
            "_view_module": "@jupyter-widgets/controls",
            "_view_module_version": "1.5.0",
            "_view_name": "ProgressView",
            "bar_style": "success",
            "description": "",
            "description_tooltip": null,
            "layout": "IPY_MODEL_690f0d06b4094b7ebb3f82c234918d75",
            "max": 5669,
            "min": 0,
            "orientation": "horizontal",
            "style": "IPY_MODEL_625a27770ae045fcbf9d04ee27e8c78b",
            "value": 5669
          }
        },
        "7ac18b8b494f4112aabac30ea68cfcda": {
          "model_module": "@jupyter-widgets/controls",
          "model_name": "HTMLModel",
          "model_module_version": "1.5.0",
          "state": {
            "_dom_classes": [],
            "_model_module": "@jupyter-widgets/controls",
            "_model_module_version": "1.5.0",
            "_model_name": "HTMLModel",
            "_view_count": null,
            "_view_module": "@jupyter-widgets/controls",
            "_view_module_version": "1.5.0",
            "_view_name": "HTMLView",
            "description": "",
            "description_tooltip": null,
            "layout": "IPY_MODEL_6f44f5f95d664ac9b69a2ae9537423b5",
            "placeholder": "​",
            "style": "IPY_MODEL_aa3ce7eca8634be8872009a73d7ed6ea",
            "value": " 5.67k/5.67k [00:00&lt;00:00, 419kB/s]"
          }
        },
        "f2ab8a8405ff4bccb4702a97118ee6f8": {
          "model_module": "@jupyter-widgets/base",
          "model_name": "LayoutModel",
          "model_module_version": "1.2.0",
          "state": {
            "_model_module": "@jupyter-widgets/base",
            "_model_module_version": "1.2.0",
            "_model_name": "LayoutModel",
            "_view_count": null,
            "_view_module": "@jupyter-widgets/base",
            "_view_module_version": "1.2.0",
            "_view_name": "LayoutView",
            "align_content": null,
            "align_items": null,
            "align_self": null,
            "border": null,
            "bottom": null,
            "display": null,
            "flex": null,
            "flex_flow": null,
            "grid_area": null,
            "grid_auto_columns": null,
            "grid_auto_flow": null,
            "grid_auto_rows": null,
            "grid_column": null,
            "grid_gap": null,
            "grid_row": null,
            "grid_template_areas": null,
            "grid_template_columns": null,
            "grid_template_rows": null,
            "height": null,
            "justify_content": null,
            "justify_items": null,
            "left": null,
            "margin": null,
            "max_height": null,
            "max_width": null,
            "min_height": null,
            "min_width": null,
            "object_fit": null,
            "object_position": null,
            "order": null,
            "overflow": null,
            "overflow_x": null,
            "overflow_y": null,
            "padding": null,
            "right": null,
            "top": null,
            "visibility": null,
            "width": null
          }
        },
        "22f7a3ae55674765ab6f792f84822f76": {
          "model_module": "@jupyter-widgets/base",
          "model_name": "LayoutModel",
          "model_module_version": "1.2.0",
          "state": {
            "_model_module": "@jupyter-widgets/base",
            "_model_module_version": "1.2.0",
            "_model_name": "LayoutModel",
            "_view_count": null,
            "_view_module": "@jupyter-widgets/base",
            "_view_module_version": "1.2.0",
            "_view_name": "LayoutView",
            "align_content": null,
            "align_items": null,
            "align_self": null,
            "border": null,
            "bottom": null,
            "display": null,
            "flex": null,
            "flex_flow": null,
            "grid_area": null,
            "grid_auto_columns": null,
            "grid_auto_flow": null,
            "grid_auto_rows": null,
            "grid_column": null,
            "grid_gap": null,
            "grid_row": null,
            "grid_template_areas": null,
            "grid_template_columns": null,
            "grid_template_rows": null,
            "height": null,
            "justify_content": null,
            "justify_items": null,
            "left": null,
            "margin": null,
            "max_height": null,
            "max_width": null,
            "min_height": null,
            "min_width": null,
            "object_fit": null,
            "object_position": null,
            "order": null,
            "overflow": null,
            "overflow_x": null,
            "overflow_y": null,
            "padding": null,
            "right": null,
            "top": null,
            "visibility": null,
            "width": null
          }
        },
        "87717663d2a54de98e0b898aa87904e5": {
          "model_module": "@jupyter-widgets/controls",
          "model_name": "DescriptionStyleModel",
          "model_module_version": "1.5.0",
          "state": {
            "_model_module": "@jupyter-widgets/controls",
            "_model_module_version": "1.5.0",
            "_model_name": "DescriptionStyleModel",
            "_view_count": null,
            "_view_module": "@jupyter-widgets/base",
            "_view_module_version": "1.2.0",
            "_view_name": "StyleView",
            "description_width": ""
          }
        },
        "690f0d06b4094b7ebb3f82c234918d75": {
          "model_module": "@jupyter-widgets/base",
          "model_name": "LayoutModel",
          "model_module_version": "1.2.0",
          "state": {
            "_model_module": "@jupyter-widgets/base",
            "_model_module_version": "1.2.0",
            "_model_name": "LayoutModel",
            "_view_count": null,
            "_view_module": "@jupyter-widgets/base",
            "_view_module_version": "1.2.0",
            "_view_name": "LayoutView",
            "align_content": null,
            "align_items": null,
            "align_self": null,
            "border": null,
            "bottom": null,
            "display": null,
            "flex": null,
            "flex_flow": null,
            "grid_area": null,
            "grid_auto_columns": null,
            "grid_auto_flow": null,
            "grid_auto_rows": null,
            "grid_column": null,
            "grid_gap": null,
            "grid_row": null,
            "grid_template_areas": null,
            "grid_template_columns": null,
            "grid_template_rows": null,
            "height": null,
            "justify_content": null,
            "justify_items": null,
            "left": null,
            "margin": null,
            "max_height": null,
            "max_width": null,
            "min_height": null,
            "min_width": null,
            "object_fit": null,
            "object_position": null,
            "order": null,
            "overflow": null,
            "overflow_x": null,
            "overflow_y": null,
            "padding": null,
            "right": null,
            "top": null,
            "visibility": null,
            "width": null
          }
        },
        "625a27770ae045fcbf9d04ee27e8c78b": {
          "model_module": "@jupyter-widgets/controls",
          "model_name": "ProgressStyleModel",
          "model_module_version": "1.5.0",
          "state": {
            "_model_module": "@jupyter-widgets/controls",
            "_model_module_version": "1.5.0",
            "_model_name": "ProgressStyleModel",
            "_view_count": null,
            "_view_module": "@jupyter-widgets/base",
            "_view_module_version": "1.2.0",
            "_view_name": "StyleView",
            "bar_color": null,
            "description_width": ""
          }
        },
        "6f44f5f95d664ac9b69a2ae9537423b5": {
          "model_module": "@jupyter-widgets/base",
          "model_name": "LayoutModel",
          "model_module_version": "1.2.0",
          "state": {
            "_model_module": "@jupyter-widgets/base",
            "_model_module_version": "1.2.0",
            "_model_name": "LayoutModel",
            "_view_count": null,
            "_view_module": "@jupyter-widgets/base",
            "_view_module_version": "1.2.0",
            "_view_name": "LayoutView",
            "align_content": null,
            "align_items": null,
            "align_self": null,
            "border": null,
            "bottom": null,
            "display": null,
            "flex": null,
            "flex_flow": null,
            "grid_area": null,
            "grid_auto_columns": null,
            "grid_auto_flow": null,
            "grid_auto_rows": null,
            "grid_column": null,
            "grid_gap": null,
            "grid_row": null,
            "grid_template_areas": null,
            "grid_template_columns": null,
            "grid_template_rows": null,
            "height": null,
            "justify_content": null,
            "justify_items": null,
            "left": null,
            "margin": null,
            "max_height": null,
            "max_width": null,
            "min_height": null,
            "min_width": null,
            "object_fit": null,
            "object_position": null,
            "order": null,
            "overflow": null,
            "overflow_x": null,
            "overflow_y": null,
            "padding": null,
            "right": null,
            "top": null,
            "visibility": null,
            "width": null
          }
        },
        "aa3ce7eca8634be8872009a73d7ed6ea": {
          "model_module": "@jupyter-widgets/controls",
          "model_name": "DescriptionStyleModel",
          "model_module_version": "1.5.0",
          "state": {
            "_model_module": "@jupyter-widgets/controls",
            "_model_module_version": "1.5.0",
            "_model_name": "DescriptionStyleModel",
            "_view_count": null,
            "_view_module": "@jupyter-widgets/base",
            "_view_module_version": "1.2.0",
            "_view_name": "StyleView",
            "description_width": ""
          }
        }
      }
    }
  },
  "nbformat": 4,
  "nbformat_minor": 0
}